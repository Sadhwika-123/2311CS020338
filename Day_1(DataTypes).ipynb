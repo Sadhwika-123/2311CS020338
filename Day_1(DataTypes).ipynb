{
 "cells": [
  {
   "cell_type": "code",
   "execution_count": 1,
   "id": "919196a9",
   "metadata": {},
   "outputs": [
    {
     "name": "stdout",
     "output_type": "stream",
     "text": [
      "Integer Variable: 10\n"
     ]
    }
   ],
   "source": [
    "integer_var = 10\n",
    "print(\"Integer Variable:\", integer_var)"
   ]
  },
  {
   "cell_type": "code",
   "execution_count": 2,
   "id": "011a1dbb",
   "metadata": {},
   "outputs": [
    {
     "name": "stdout",
     "output_type": "stream",
     "text": [
      "Float Variable: 3.14\n"
     ]
    }
   ],
   "source": [
    "float_var = 3.14\n",
    "print(\"Float Variable:\", float_var)"
   ]
  },
  {
   "cell_type": "code",
   "execution_count": 3,
   "id": "d4fd20b9",
   "metadata": {},
   "outputs": [
    {
     "name": "stdout",
     "output_type": "stream",
     "text": [
      "String Variable: Hello, Jupyter!\n"
     ]
    }
   ],
   "source": [
    "string_var = \"Hello, Jupyter!\"\n",
    "print(\"String Variable:\", string_var)\n"
   ]
  },
  {
   "cell_type": "code",
   "execution_count": 4,
   "id": "4287e631",
   "metadata": {},
   "outputs": [
    {
     "name": "stdout",
     "output_type": "stream",
     "text": [
      "Boolean Variable: True\n"
     ]
    }
   ],
   "source": [
    "boolean_var = True\n",
    "print(\"Boolean Variable:\", boolean_var)"
   ]
  },
  {
   "cell_type": "code",
   "execution_count": 7,
   "id": "8351b8ca",
   "metadata": {},
   "outputs": [
    {
     "data": {
      "text/plain": [
       "int"
      ]
     },
     "execution_count": 7,
     "metadata": {},
     "output_type": "execute_result"
    }
   ],
   "source": [
    "type(integer_var)"
   ]
  },
  {
   "cell_type": "code",
   "execution_count": 8,
   "id": "f2ea7013",
   "metadata": {},
   "outputs": [
    {
     "data": {
      "text/plain": [
       "float"
      ]
     },
     "execution_count": 8,
     "metadata": {},
     "output_type": "execute_result"
    }
   ],
   "source": [
    "type(float_var)"
   ]
  },
  {
   "cell_type": "code",
   "execution_count": 9,
   "id": "8720f094",
   "metadata": {},
   "outputs": [
    {
     "data": {
      "text/plain": [
       "str"
      ]
     },
     "execution_count": 9,
     "metadata": {},
     "output_type": "execute_result"
    }
   ],
   "source": [
    "type(string_var)"
   ]
  },
  {
   "cell_type": "code",
   "execution_count": 10,
   "id": "c1c95f82",
   "metadata": {},
   "outputs": [
    {
     "data": {
      "text/plain": [
       "bool"
      ]
     },
     "execution_count": 10,
     "metadata": {},
     "output_type": "execute_result"
    }
   ],
   "source": [
    "type(boolean_var)"
   ]
  },
  {
   "cell_type": "code",
   "execution_count": null,
   "id": "79ea270d",
   "metadata": {},
   "outputs": [],
   "source": []
  }
 ],
 "metadata": {
  "kernelspec": {
   "display_name": "Python 3 (ipykernel)",
   "language": "python",
   "name": "python3"
  },
  "language_info": {
   "codemirror_mode": {
    "name": "ipython",
    "version": 3
   },
   "file_extension": ".py",
   "mimetype": "text/x-python",
   "name": "python",
   "nbconvert_exporter": "python",
   "pygments_lexer": "ipython3",
   "version": "3.11.5"
  }
 },
 "nbformat": 4,
 "nbformat_minor": 5
}
